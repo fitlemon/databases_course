{
 "cells": [
  {
   "cell_type": "markdown",
   "metadata": {},
   "source": [
    "Домашнее задание № 3. Группировка данных и оконные функции (vo_HW) . Ихматуллаев Даврон"
   ]
  },
  {
   "cell_type": "code",
   "execution_count": 2,
   "metadata": {},
   "outputs": [
    {
     "name": "stderr",
     "output_type": "stream",
     "text": [
      "/tmp/ipykernel_445628/4080736814.py:1: DeprecationWarning: \n",
      "Pyarrow will become a required dependency of pandas in the next major release of pandas (pandas 3.0),\n",
      "(to allow more performant data types, such as the Arrow string type, and better interoperability with other libraries)\n",
      "but was not found to be installed on your system.\n",
      "If this would cause problems for you,\n",
      "please provide us feedback at https://github.com/pandas-dev/pandas/issues/54466\n",
      "        \n",
      "  import pandas as pd\n"
     ]
    }
   ],
   "source": [
    "import pandas as pd"
   ]
  },
  {
   "cell_type": "markdown",
   "metadata": {},
   "source": [
    "### 1. Вывести распределение (количество) клиентов по сферам деятельности, отсортировав результат по убыванию количества. — (1 балл)"
   ]
  },
  {
   "cell_type": "code",
   "execution_count": null,
   "metadata": {
    "vscode": {
     "languageId": "sql"
    }
   },
   "outputs": [],
   "source": [
    "select  job_industry_category, count(*) as count_of_customers\n",
    "from customer_20240101 c \n",
    "group by job_industry_category \n",
    "order by count_of_customers desc;"
   ]
  },
  {
   "cell_type": "markdown",
   "metadata": {},
   "source": [
    "<img src='../static/img/hw3_1.png'>"
   ]
  },
  {
   "cell_type": "markdown",
   "metadata": {},
   "source": [
    "### 2. Найти сумму транзакций за каждый месяц по сферам деятельности, отсортировав по месяцам и по сфере деятельности. — (1 балл)"
   ]
  },
  {
   "cell_type": "code",
   "execution_count": null,
   "metadata": {
    "vscode": {
     "languageId": "sql"
    }
   },
   "outputs": [],
   "source": [
    "select to_char(date_trunc('month', t.transaction_date::date), 'YYYY-MM') as transaction_month, c.job_industry_category, sum(t.list_price) \n",
    "from transaction_20240101 t\n",
    "inner join customer_20240101 c \n",
    "on t.customer_id = c.customer_id \n",
    "group by c.job_industry_category , transaction_month\n",
    "order by transaction_month, c.job_industry_category;"
   ]
  },
  {
   "cell_type": "markdown",
   "metadata": {},
   "source": [
    "<img src='../static/img/hw3_2.png'>"
   ]
  },
  {
   "cell_type": "markdown",
   "metadata": {},
   "source": [
    "### 3. Вывести количество онлайн-заказов для всех брендов в рамках подтвержденных заказов клиентов из сферы IT. — (1 балл)"
   ]
  },
  {
   "cell_type": "code",
   "execution_count": null,
   "metadata": {
    "vscode": {
     "languageId": "sql"
    }
   },
   "outputs": [],
   "source": [
    "select t.brand , count(*)\n",
    "from transaction_20240101 t \n",
    "inner join customer_20240101 c \n",
    "on t.customer_id = c.customer_id \n",
    "where c.job_industry_category = 'IT'  and t.online_order = 'True' and t.order_status = 'Approved'\n",
    "group by t.brand \n",
    "order by t.brand desc;"
   ]
  },
  {
   "cell_type": "markdown",
   "metadata": {},
   "source": [
    "<img src='../static/img/hw3_3.png'>"
   ]
  },
  {
   "cell_type": "markdown",
   "metadata": {},
   "source": [
    "### 4. Найти по всем клиентам сумму всех транзакций (list_price), максимум, минимум и количество транзакций, отсортировав результат по убыванию суммы транзакций и количества клиентов. Выполните двумя способами: используя только group by и используя только оконные функции. Сравните результат. — (2 балла)"
   ]
  },
  {
   "cell_type": "markdown",
   "metadata": {},
   "source": [
    " 1й способ с group by"
   ]
  },
  {
   "cell_type": "code",
   "execution_count": null,
   "metadata": {
    "vscode": {
     "languageId": "sql"
    }
   },
   "outputs": [],
   "source": [
    "select  customer_id , \n",
    "\t\tsum(list_price) as sum_of_transactions, \n",
    "\t\tmax(list_price) as max_of_transactions,\n",
    "\t\tmin(list_price) as min_of_transactions,\n",
    "\t\tcount(transaction_id) as transaction_count\n",
    "from transaction_20240101 t \n",
    "group by customer_id\n",
    "order by sum(list_price) desc, count(transaction_id) desc;"
   ]
  },
  {
   "cell_type": "markdown",
   "metadata": {},
   "source": [
    "<img src='../static/img/hw3_4.png'>"
   ]
  },
  {
   "cell_type": "markdown",
   "metadata": {},
   "source": [
    " 2 способ с оконными функциями"
   ]
  },
  {
   "cell_type": "code",
   "execution_count": null,
   "metadata": {
    "vscode": {
     "languageId": "sql"
    }
   },
   "outputs": [],
   "source": [
    "select  distinct \n",
    "\t\tcustomer_id,\n",
    "\t\tsum(list_price) over(partition by customer_id) as sum_of_transactions,\n",
    "\t\tmax(list_price) over(partition by customer_id) as max_of_transactions,\n",
    "\t\tmin(list_price) over(partition by customer_id) as min_of_transactions,\n",
    "\t\tcount(transaction_id) over(partition by customer_id) as transaction_count\n",
    "from transaction_20240101 t \n",
    "order by sum_of_transactions desc, transaction_count desc"
   ]
  },
  {
   "cell_type": "markdown",
   "metadata": {},
   "source": [
    "<img src='../static/img/hw3_5.png'>"
   ]
  },
  {
   "cell_type": "markdown",
   "metadata": {},
   "source": [
    "### 5. Найти имена и фамилии клиентов с минимальной/максимальной суммой транзакций за весь период (сумма транзакций не может быть null). Напишите отдельные запросы для минимальной и максимальной суммы. — (2 балла)"
   ]
  },
  {
   "cell_type": "markdown",
   "metadata": {},
   "source": [
    "Клиент с минимальной суммой транзакций:"
   ]
  },
  {
   "cell_type": "code",
   "execution_count": null,
   "metadata": {
    "vscode": {
     "languageId": "sql"
    }
   },
   "outputs": [],
   "source": [
    "with grouped_table as\n",
    "(\n",
    "select c.customer_id, c.first_name , c.last_name , sum(t.list_price) as sum_of_transactions\n",
    "from transaction_20240101 t \n",
    "inner join customer_20240101 c \n",
    "on t.customer_id = c.customer_id \n",
    "group by c.customer_id, c.first_name , c.last_name\n",
    ")\n",
    "\n",
    "select *\n",
    "from grouped_table\n",
    "where sum_of_transactions = (select min(sum_of_transactions) from grouped_table);"
   ]
  },
  {
   "cell_type": "markdown",
   "metadata": {},
   "source": [
    "<img src='../static/img/hw3_9.png'>"
   ]
  },
  {
   "cell_type": "markdown",
   "metadata": {},
   "source": [
    "*Был использован такой запрос (без использования limit 1) для того случая, когда клиентов с минимально/максимальной суммой транзакций может быть несколько."
   ]
  },
  {
   "cell_type": "markdown",
   "metadata": {},
   "source": [
    "Клиент с максимальной суммой транзакций:"
   ]
  },
  {
   "cell_type": "code",
   "execution_count": null,
   "metadata": {
    "vscode": {
     "languageId": "sql"
    }
   },
   "outputs": [],
   "source": [
    "with grouped_table as\n",
    "(\n",
    "select c.customer_id, c.first_name , c.last_name , sum(t.list_price) as sum_of_transactions\n",
    "from transaction_20240101 t \n",
    "inner join customer_20240101 c \n",
    "on t.customer_id = c.customer_id \n",
    "group by c.customer_id, c.first_name , c.last_name\n",
    ")\n",
    "\n",
    "select *\n",
    "from grouped_table\n",
    "where sum_of_transactions = (select max(sum_of_transactions) from grouped_table);"
   ]
  },
  {
   "cell_type": "markdown",
   "metadata": {},
   "source": [
    "<img src='../static/img/hw3_10.png'>"
   ]
  },
  {
   "cell_type": "markdown",
   "metadata": {},
   "source": [
    "### 6. Вывести только самые первые транзакции клиентов. Решить с помощью оконных функций. — (1 балл)"
   ]
  },
  {
   "cell_type": "code",
   "execution_count": null,
   "metadata": {
    "vscode": {
     "languageId": "sql"
    }
   },
   "outputs": [],
   "source": [
    "with window_table as \n",
    "(\n",
    "select  customer_id\n",
    "\t\t,transaction_date::date\n",
    "\t\t,transaction_id\n",
    "\t\t,ROW_NUMBER() over(partition by customer_id order by transaction_date::date asc) as row\n",
    "from transaction_20240101 t\n",
    ")\n",
    "\n",
    "select customer_id, transaction_date, transaction_id\n",
    "from window_table\n",
    "where row = 1;"
   ]
  },
  {
   "cell_type": "markdown",
   "metadata": {},
   "source": [
    "<img src='../static/img/hw3_8.png'>"
   ]
  },
  {
   "cell_type": "markdown",
   "metadata": {},
   "source": [
    "### Вывести имена, фамилии и профессии клиентов, между транзакциями которых был максимальный интервал (интервал вычисляется в днях) — (2 балла)."
   ]
  },
  {
   "cell_type": "code",
   "execution_count": null,
   "metadata": {
    "vscode": {
     "languageId": "sql"
    }
   },
   "outputs": [],
   "source": [
    "with grouped_table as \n",
    "(\n",
    "with window_table as\n",
    "(\n",
    "select  c.customer_id, c.first_name, c.last_name, c.job_title\n",
    "\t\t,t.transaction_date::date\n",
    "\t\t,lead(t.transaction_date::date) over(partition by c.first_name, c.last_name order by t.transaction_date::date) as next_transaction_date\n",
    "from transaction_20240101 t \n",
    "inner join customer_20240101 c \n",
    "on t.customer_id = c.customer_id\n",
    ")\n",
    "\n",
    "select *,\n",
    "\t\tmax(next_transaction_date - transaction_date) as max_days_between\n",
    "from window_table\n",
    "where next_transaction_date - transaction_date notnull\n",
    "group by customer_id, first_name, last_name, job_title, transaction_date, next_transaction_date\n",
    "order by max_days_between desc\n",
    ")\n",
    "\n",
    "select *\n",
    "from grouped_table\n",
    "where max_days_between = (select max(max_days_between) from grouped_table);"
   ]
  },
  {
   "cell_type": "markdown",
   "metadata": {},
   "source": [
    "*Был использован такой запрос (без использования limit 1) для того случая, когда клиентов с максимальным интервалом транзакций может быть несколько."
   ]
  },
  {
   "cell_type": "markdown",
   "metadata": {},
   "source": [
    "<img src='../static/img/hw3_11.png'>"
   ]
  }
 ],
 "metadata": {
  "kernelspec": {
   "display_name": ".venv",
   "language": "python",
   "name": "python3"
  },
  "language_info": {
   "codemirror_mode": {
    "name": "ipython",
    "version": 3
   },
   "file_extension": ".py",
   "mimetype": "text/x-python",
   "name": "python",
   "nbconvert_exporter": "python",
   "pygments_lexer": "ipython3",
   "version": "3.10.12"
  }
 },
 "nbformat": 4,
 "nbformat_minor": 2
}
